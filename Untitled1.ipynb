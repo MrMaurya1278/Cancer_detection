{
  "nbformat": 4,
  "nbformat_minor": 0,
  "metadata": {
    "colab": {
      "provenance": [],
      "authorship_tag": "ABX9TyNJIqahO0A8zuJY56tPzXNG",
      "include_colab_link": true
    },
    "kernelspec": {
      "name": "python3",
      "display_name": "Python 3"
    },
    "language_info": {
      "name": "python"
    }
  },
  "cells": [
    {
      "cell_type": "markdown",
      "metadata": {
        "id": "view-in-github",
        "colab_type": "text"
      },
      "source": [
        "<a href=\"https://colab.research.google.com/github/MrMaurya1278/Cancer_detection/blob/main/Untitled1.ipynb\" target=\"_parent\"><img src=\"https://colab.research.google.com/assets/colab-badge.svg\" alt=\"Open In Colab\"/></a>"
      ]
    },
    {
      "cell_type": "code",
      "source": [
        "#get the data from\n",
        "\n",
        "!wget https://www.dropbox.com/s/dtw18saps8231yn/BrainTumorData.zip?dl=e"
      ],
      "metadata": {
        "colab": {
          "base_uri": "https://localhost:8080/"
        },
        "id": "eVns9q4LlsEo",
        "outputId": "c13ca690-a557-459a-d316-000fd1a6e96f"
      },
      "execution_count": null,
      "outputs": [
        {
          "output_type": "stream",
          "name": "stdout",
          "text": [
            "--2022-12-02 07:01:20--  https://www.dropbox.com/s/dtw18saps8231yn/BrainTumorData.zip?dl=e\n",
            "Resolving www.dropbox.com (www.dropbox.com)... 162.125.5.18, 2620:100:601d:18::a27d:512\n",
            "Connecting to www.dropbox.com (www.dropbox.com)|162.125.5.18|:443... connected.\n",
            "HTTP request sent, awaiting response... 200 OK\n",
            "Length: unspecified [text/html]\n",
            "Saving to: ‘BrainTumorData.zip?dl=e’\n",
            "\n",
            "BrainTumorData.zip?     [  <=>               ] 427.29K  1.89MB/s    in 0.2s    \n",
            "\n",
            "2022-12-02 07:01:21 (1.89 MB/s) - ‘BrainTumorData.zip?dl=e’ saved [437545]\n",
            "\n"
          ]
        }
      ]
    },
    {
      "cell_type": "code",
      "source": [
        "!unzip /content/BrainTumorData.zip?dl=e"
      ],
      "metadata": {
        "id": "AJahhLs0ohdQ"
      },
      "execution_count": null,
      "outputs": []
    },
    {
      "cell_type": "code",
      "source": [
        "import numpy as np\n",
        "import matplotlib.pyplot as plt\n",
        "import os\n",
        "import math\n",
        "import shutil\n",
        "import glob\n"
      ],
      "metadata": {
        "id": "4QY7CUrhlsgn"
      },
      "execution_count": null,
      "outputs": []
    },
    {
      "cell_type": "code",
      "source": [
        "# count the number of image in respective classes\n",
        "ROOT_DIR = \" \"\n",
        "number_of_images = {}\n",
        "\n",
        "for dir in os.listdir(ROOT_DIR):\n",
        "  number_of_images[dir] = len(os.listdir(os.path.join(ROOT_DIR, dir)))\n",
        "\n"
      ],
      "metadata": {
        "id": "FzcCQnYhmNVe"
      },
      "execution_count": null,
      "outputs": []
    },
    {
      "cell_type": "code",
      "source": [
        "number_of_images.item()\n"
      ],
      "metadata": {
        "id": "744rwpd2nIfI"
      },
      "execution_count": null,
      "outputs": []
    }
  ]
}